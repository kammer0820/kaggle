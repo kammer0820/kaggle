{
 "cells": [
  {
   "cell_type": "code",
   "execution_count": 2,
   "metadata": {
    "collapsed": true
   },
   "outputs": [],
   "source": [
    "import pandas as pd\n",
    "import numpy as np\n",
    "import matplotlib.pyplot as plt\n",
    "%matplotlib inline\n",
    "\n",
    "df1 = pd.read_csv(\"train.csv\")\n",
    "df2 = pd.read_csv(\"test.csv\")\n"
   ]
  },
  {
   "cell_type": "code",
   "execution_count": 3,
   "metadata": {
    "collapsed": true
   },
   "outputs": [],
   "source": [
    "#traindataを元に家族別の生存率を追加\n",
    "name_df_train = df1.iloc[:,3]\n",
    "survive_array = df1.iloc[:,1]\n",
    "\n",
    "name_df = name_df_train\n",
    "\n",
    "name_array = []\n",
    "name_count = []\n",
    "name_survive_count = []\n",
    "name_survive_ratio = []\n",
    "\n",
    "name_i = 0\n",
    "\n",
    "for name in name_df:\n",
    "    name_split = name.split(\" \")\n",
    "    name_split_first = name_split[0].replace(',','')\n",
    "    if name_split_first in name_array:\n",
    "        name_count[name_array.index(name_split_first)] = name_count[name_array.index(name_split_first)] + 1\n",
    "        name_survive_count[name_array.index(name_split_first)] = name_survive_count[name_array.index(name_split_first)] + survive_array[name_i]                            \n",
    "    else:\n",
    "        name_array.append(name_split_first)\n",
    "        name_count.append(1)\n",
    "        name_survive_count.append(survive_array[name_i])\n",
    "    name_i = name_i + 1\n",
    "        \n",
    "count = 0\n",
    "for i in name_count:\n",
    "    if name_count[count] == 1:\n",
    "        name_survive_ratio.append(-1)\n",
    "    else:\n",
    "        name_survive_ratio.append(name_survive_count[count]/(name_count[count]))\n",
    "    count = count + 1\n",
    "    \n",
    "survive_ratio_array = []    \n",
    "\n",
    "for name in name_df:\n",
    "    name_split = name.split(\" \")\n",
    "    name_split_first = name_split[0].replace(',','')\n",
    "    survive_ratio_array.append(name_survive_ratio[name_array.index(name_split_first)])\n",
    "\n",
    "df1['familysurviveratio'] = np.array(survive_ratio_array)"
   ]
  },
  {
   "cell_type": "code",
   "execution_count": 4,
   "metadata": {
    "collapsed": true
   },
   "outputs": [],
   "source": [
    "#testdataにも家族別生存率を追加\n",
    "name_df_test = df2.iloc[:,2]\n",
    "survive_ratio_test =[]\n",
    "for name in name_df_test:\n",
    "    name_split = name.split(\" \")\n",
    "    name_split_first = name_split[0].replace(',','')                                         \n",
    "    if name_split_first in name_array:\n",
    "        survive_ratio_test.append(name_survive_ratio[name_array.index(name_split_first)])\n",
    "    else:\n",
    "        survive_ratio_test.append(-1)\n",
    "df2= df2.drop([\"Ticket\"], axis = 1)        \n",
    "df2['familysurviveratio'] = np.array(survive_ratio_test)"
   ]
  },
  {
   "cell_type": "code",
   "execution_count": 5,
   "metadata": {
    "collapsed": true
   },
   "outputs": [],
   "source": [
    "#1つのデータフレームにして処理を行う\n",
    "df =  pd.concat([df1,df2])"
   ]
  },
  {
   "cell_type": "code",
   "execution_count": 6,
   "metadata": {
    "collapsed": true
   },
   "outputs": [],
   "source": [
    "df = df.reset_index(drop=True)"
   ]
  },
  {
   "cell_type": "code",
   "execution_count": 7,
   "metadata": {
    "collapsed": true
   },
   "outputs": [],
   "source": [
    "#敬称を追加\n",
    "honor = []\n",
    "for i in df[\"Name\"]:\n",
    "    if \"Master\" in i :\n",
    "        honor.append(0)\n",
    "    elif \"Mr\" in i and \"Mrs\" not in i:\n",
    "        honor.append(1)\n",
    "    elif \"Miss\" in i :\n",
    "        honor.append(2)\n",
    "    elif \"Mrs\" in i :\n",
    "        honor.append(3)\n",
    "    else:\n",
    "        honor.append(4)\n",
    "    \n",
    "df['honor'] = np.array(honor)"
   ]
  },
  {
   "cell_type": "code",
   "execution_count": 8,
   "metadata": {
    "collapsed": true
   },
   "outputs": [],
   "source": [
    "#家族の人数を追加\n",
    "df[\"FamilySize\"] = df[\"SibSp\"] + df[\"Parch\"] + 1"
   ]
  },
  {
   "cell_type": "code",
   "execution_count": 9,
   "metadata": {
    "collapsed": true
   },
   "outputs": [],
   "source": [
    "#家族の人数に応じたラベルを追加\n",
    "def familysizerange(FamilySize):\n",
    "    if FamilySize == 1:\n",
    "        return 0\n",
    "    elif FamilySize ==2 or FamilySize == 3:\n",
    "        return 1\n",
    "    elif FamilySize >= 4:\n",
    "        return 2\n",
    "    \n",
    "df[\"familysizerange\"] = df.FamilySize.apply(familysizerange)"
   ]
  },
  {
   "cell_type": "code",
   "execution_count": 10,
   "metadata": {
    "collapsed": true
   },
   "outputs": [],
   "source": [
    "#ダミー変数化\n",
    "df = df.replace(\"male\",0).replace(\"female\",1).replace(\"S\",0).replace(\"C\",1).replace(\"Q\",2)"
   ]
  },
  {
   "cell_type": "code",
   "execution_count": 11,
   "metadata": {
    "collapsed": true
   },
   "outputs": [],
   "source": [
    "#使わない情報を落とす\n",
    "df.drop([\"Cabin\",\"Parch\",\"SibSp\",\"Ticket\",\"FamilySize\",\"Name\",\"PssengerId\"],axis =1,inplace = True)"
   ]
  },
  {
   "cell_type": "code",
   "execution_count": 14,
   "metadata": {},
   "outputs": [
    {
     "data": {
      "text/html": [
       "<div>\n",
       "<style>\n",
       "    .dataframe thead tr:only-child th {\n",
       "        text-align: right;\n",
       "    }\n",
       "\n",
       "    .dataframe thead th {\n",
       "        text-align: left;\n",
       "    }\n",
       "\n",
       "    .dataframe tbody tr th {\n",
       "        vertical-align: top;\n",
       "    }\n",
       "</style>\n",
       "<table border=\"1\" class=\"dataframe\">\n",
       "  <thead>\n",
       "    <tr style=\"text-align: right;\">\n",
       "      <th></th>\n",
       "      <th>Age</th>\n",
       "      <th>Embarked</th>\n",
       "      <th>Fare</th>\n",
       "      <th>PassengerId</th>\n",
       "      <th>Pclass</th>\n",
       "      <th>Sex</th>\n",
       "      <th>Survived</th>\n",
       "      <th>familysurviveratio</th>\n",
       "      <th>honor</th>\n",
       "      <th>familysizerange</th>\n",
       "    </tr>\n",
       "  </thead>\n",
       "  <tbody>\n",
       "    <tr>\n",
       "      <th>0</th>\n",
       "      <td>22.0</td>\n",
       "      <td>0.0</td>\n",
       "      <td>7.2500</td>\n",
       "      <td>1</td>\n",
       "      <td>3</td>\n",
       "      <td>0</td>\n",
       "      <td>0.0</td>\n",
       "      <td>0.0</td>\n",
       "      <td>1</td>\n",
       "      <td>1</td>\n",
       "    </tr>\n",
       "    <tr>\n",
       "      <th>1</th>\n",
       "      <td>38.0</td>\n",
       "      <td>1.0</td>\n",
       "      <td>71.2833</td>\n",
       "      <td>2</td>\n",
       "      <td>1</td>\n",
       "      <td>1</td>\n",
       "      <td>1.0</td>\n",
       "      <td>-1.0</td>\n",
       "      <td>3</td>\n",
       "      <td>1</td>\n",
       "    </tr>\n",
       "    <tr>\n",
       "      <th>2</th>\n",
       "      <td>26.0</td>\n",
       "      <td>0.0</td>\n",
       "      <td>7.9250</td>\n",
       "      <td>3</td>\n",
       "      <td>3</td>\n",
       "      <td>1</td>\n",
       "      <td>1.0</td>\n",
       "      <td>-1.0</td>\n",
       "      <td>2</td>\n",
       "      <td>0</td>\n",
       "    </tr>\n",
       "    <tr>\n",
       "      <th>3</th>\n",
       "      <td>35.0</td>\n",
       "      <td>0.0</td>\n",
       "      <td>53.1000</td>\n",
       "      <td>4</td>\n",
       "      <td>1</td>\n",
       "      <td>1</td>\n",
       "      <td>1.0</td>\n",
       "      <td>0.5</td>\n",
       "      <td>3</td>\n",
       "      <td>1</td>\n",
       "    </tr>\n",
       "    <tr>\n",
       "      <th>4</th>\n",
       "      <td>35.0</td>\n",
       "      <td>0.0</td>\n",
       "      <td>8.0500</td>\n",
       "      <td>5</td>\n",
       "      <td>3</td>\n",
       "      <td>0</td>\n",
       "      <td>0.0</td>\n",
       "      <td>0.5</td>\n",
       "      <td>1</td>\n",
       "      <td>0</td>\n",
       "    </tr>\n",
       "  </tbody>\n",
       "</table>\n",
       "</div>"
      ],
      "text/plain": [
       "    Age  Embarked     Fare  PassengerId  Pclass  Sex  Survived  \\\n",
       "0  22.0       0.0   7.2500            1       3    0       0.0   \n",
       "1  38.0       1.0  71.2833            2       1    1       1.0   \n",
       "2  26.0       0.0   7.9250            3       3    1       1.0   \n",
       "3  35.0       0.0  53.1000            4       1    1       1.0   \n",
       "4  35.0       0.0   8.0500            5       3    0       0.0   \n",
       "\n",
       "   familysurviveratio  honor  familysizerange  \n",
       "0                 0.0      1                1  \n",
       "1                -1.0      3                1  \n",
       "2                -1.0      2                0  \n",
       "3                 0.5      3                1  \n",
       "4                 0.5      1                0  "
      ]
     },
     "execution_count": 14,
     "metadata": {},
     "output_type": "execute_result"
    }
   ],
   "source": [
    "df.head()"
   ]
  },
  {
   "cell_type": "code",
   "execution_count": 15,
   "metadata": {},
   "outputs": [],
   "source": [
    "#年齢の欠損を敬称、性別、Pclassの一致する人の中央値で埋める。\n",
    "df = df.fillna(value = {\"Age\":-1})\n",
    "a = df.loc[:,[\"Age\",\"honor\",\"Pclass\",\"Sex\"]].values\n",
    "for i in a:\n",
    "    if i[0] == -1:\n",
    "        i[0] =df[(df[\"honor\"]==i[1])&(df[\"Pclass\"]==i[2])&(df[\"Sex\"]==i[3])][\"Age\"].median()\n",
    "frame = pd.DataFrame(a, columns=[\"Age\", \"honor\",\"Pclass\",\"Sex\"])\n",
    "df.drop([\"Age\",\"honor\",\"Pclass\",\"Sex\"],axis = 1,inplace = True)\n",
    "df = pd.concat([df, frame], axis=1)"
   ]
  },
  {
   "cell_type": "code",
   "execution_count": 460,
   "metadata": {
    "collapsed": true
   },
   "outputs": [],
   "source": [
    "# 学習用にsurvivedを取り出しておく。取り出したらSurvivedは消す。\n",
    "y = df[\"Survived\"][:890].as_matrix()\n",
    "df.drop([\"Survived\"],axis = 1,inplace = True)"
   ]
  },
  {
   "cell_type": "code",
   "execution_count": 463,
   "metadata": {
    "collapsed": true
   },
   "outputs": [],
   "source": [
    "#欠損値を埋める(ほぼ無いので適当に中央値で埋める)\n",
    "df = df.fillna(df.median())"
   ]
  },
  {
   "cell_type": "code",
   "execution_count": 465,
   "metadata": {
    "collapsed": true
   },
   "outputs": [],
   "source": [
    "#traindataの取り出し\n",
    "X = df.iloc[:,:][:890].values"
   ]
  },
  {
   "cell_type": "code",
   "execution_count": 466,
   "metadata": {
    "collapsed": true
   },
   "outputs": [],
   "source": [
    "from sklearn.model_selection import train_test_split\n",
    "X_train, X_test, y_train, y_test = train_test_split(X, y, test_size=0.3, random_state=2)"
   ]
  },
  {
   "cell_type": "code",
   "execution_count": 467,
   "metadata": {},
   "outputs": [
    {
     "name": "stdout",
     "output_type": "stream",
     "text": [
      "train accuracy: 0.912\n",
      "test  accuracy: 0.869\n"
     ]
    }
   ],
   "source": [
    "#xgboostで学習。\n",
    "import xgboost as xgb\n",
    "mod = xgb.XGBClassifier()\n",
    "mod.fit(X_train, y_train)\n",
    "print('train accuracy: %.3f' % mod.score(X_train, y_train))\n",
    "print('test  accuracy: %.3f' % mod.score(X_test, y_test))"
   ]
  },
  {
   "cell_type": "code",
   "execution_count": 468,
   "metadata": {
    "collapsed": true
   },
   "outputs": [],
   "source": [
    "#testdataの取り出し\n",
    "x1 = df.iloc[:,:][891:].values"
   ]
  },
  {
   "cell_type": "code",
   "execution_count": 469,
   "metadata": {
    "collapsed": true
   },
   "outputs": [],
   "source": [
    "#予測\n",
    "y1 = mod.predict(x1)"
   ]
  },
  {
   "cell_type": "code",
   "execution_count": 470,
   "metadata": {
    "collapsed": true
   },
   "outputs": [],
   "source": [
    "#csvデータに書き出す。\n",
    "a =[i for i in range(892,1310)]\n",
    "dfnew2 = pd.DataFrame({'PassengerId':a ,'Survived': y1})\n",
    "dfnew2.to_csv(\"pred37.csv\", index = False)"
   ]
  },
  {
   "cell_type": "code",
   "execution_count": 471,
   "metadata": {
    "collapsed": true
   },
   "outputs": [],
   "source": [
    "#Ageを5歳幅に区切る。\n",
    "def agerange(Age):\n",
    "    return int(Age/5) \n",
    "\n",
    "df[\"agerange\"] = df.Age.apply(agerange)\n",
    "df.drop([\"Age\"],axis = 1,inplace  =True)"
   ]
  },
  {
   "cell_type": "code",
   "execution_count": 474,
   "metadata": {
    "collapsed": true
   },
   "outputs": [],
   "source": [
    "X2 = df.iloc[:,:][:890].values"
   ]
  },
  {
   "cell_type": "code",
   "execution_count": 475,
   "metadata": {
    "collapsed": true
   },
   "outputs": [],
   "source": [
    "X2_train, X2_test, y_train, y_test = train_test_split(X2, y, test_size=0.2, random_state=2)"
   ]
  },
  {
   "cell_type": "code",
   "execution_count": 476,
   "metadata": {},
   "outputs": [
    {
     "name": "stdout",
     "output_type": "stream",
     "text": [
      "train accuracy: 0.903\n",
      "test  accuracy: 0.854\n"
     ]
    }
   ],
   "source": [
    "mod2 = xgb.XGBClassifier()\n",
    "mod2.fit(X2_train, y_train)\n",
    "print('train accuracy: %.3f' % mod2.score(X2_train, y_train))\n",
    "print('test  accuracy: %.3f' % mod2.score(X2_test, y_test))"
   ]
  },
  {
   "cell_type": "code",
   "execution_count": 477,
   "metadata": {
    "collapsed": true
   },
   "outputs": [],
   "source": [
    "x2 = df.iloc[:,:][891:].values"
   ]
  },
  {
   "cell_type": "code",
   "execution_count": 478,
   "metadata": {
    "collapsed": true
   },
   "outputs": [],
   "source": [
    "y2 = mod2.predict(x2)"
   ]
  },
  {
   "cell_type": "code",
   "execution_count": 479,
   "metadata": {
    "collapsed": true
   },
   "outputs": [],
   "source": [
    "a =[i for i in range(892,1310)]\n",
    "dfnew2 = pd.DataFrame({'PassengerId':a ,'Survived': y2})\n",
    "dfnew2.to_csv(\"pred40.csv\", index = False)"
   ]
  },
  {
   "cell_type": "code",
   "execution_count": null,
   "metadata": {
    "collapsed": true
   },
   "outputs": [],
   "source": []
  }
 ],
 "metadata": {
  "kernelspec": {
   "display_name": "Python 3",
   "language": "python",
   "name": "python3"
  },
  "language_info": {
   "codemirror_mode": {
    "name": "ipython",
    "version": 3
   },
   "file_extension": ".py",
   "mimetype": "text/x-python",
   "name": "python",
   "nbconvert_exporter": "python",
   "pygments_lexer": "ipython3",
   "version": "3.6.2"
  }
 },
 "nbformat": 4,
 "nbformat_minor": 2
}
