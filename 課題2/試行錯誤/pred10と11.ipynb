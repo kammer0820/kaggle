{
 "cells": [
  {
   "cell_type": "code",
   "execution_count": 40,
   "metadata": {
    "collapsed": true
   },
   "outputs": [],
   "source": [
    "import numpy as np\n",
    "import pandas as pd\n",
    "import matplotlib.pyplot as plt\n",
    "%matplotlib inline\n",
    "from sklearn.model_selection import train_test_split\n",
    "from sklearn.ensemble import RandomForestClassifier\n"
   ]
  },
  {
   "cell_type": "code",
   "execution_count": 41,
   "metadata": {},
   "outputs": [],
   "source": [
    "#ダミー変数化、欠損値埋め。学習用には,Name,Ticketといった不必要なデータを落とす。Cabinも欠損が多すぎるため削除。\n",
    "#Ageは平均で埋める。\n",
    "df = pd.read_csv(\"train.csv\")\n",
    "y=df[\"Survived\"].as_matrix()\n",
    "df = df.drop([\"Survived\",\"PassengerId\",\"Ticket\",\"Cabin\"], axis = 1)\n",
    "df = df.replace(\"male\",0).replace(\"female\",1)\n",
    "df = df.replace(\"S\",0).replace(\"C\",1).replace(\"Q\",2)\n",
    "df = df.fillna(value = {'Embarked': 1})\n",
    "df = df.fillna(value = {\"Age\":-1})\n",
    "honor = []\n",
    "for i in df[\"Name\"]:\n",
    "    if \"Master\" in i :\n",
    "        honor.append(0)\n",
    "    elif \"Mr\" in i :\n",
    "        honor.append(1)\n",
    "    elif \"Miss\" in i :\n",
    "        honor.append(2)\n",
    "    elif \"Mrs\" in i :\n",
    "        honor.append(3)\n",
    "    else:\n",
    "        honor.append(\"4\")\n",
    "    \n",
    "df['honor'] = np.array(honor)\n",
    "a = df.loc[:,[\"Age\",\"honor\"]]\n",
    "a =np.array(a)\n",
    "for i in a:\n",
    "    if i[0] == -1:\n",
    "        i[0] =df[df[\"honor\"]==i[1]][\"Age\"].mean()\n",
    "frame = pd.DataFrame(a, columns=[\"Age\", \"honor\"])\n",
    "df = df.drop([\"Age\",\"honor\",\"Name\"], axis = 1)\n",
    "df = pd.concat([df, frame], axis=1)"
   ]
  },
  {
   "cell_type": "code",
   "execution_count": 42,
   "metadata": {},
   "outputs": [
    {
     "data": {
      "text/html": [
       "<div>\n",
       "<style>\n",
       "    .dataframe thead tr:only-child th {\n",
       "        text-align: right;\n",
       "    }\n",
       "\n",
       "    .dataframe thead th {\n",
       "        text-align: left;\n",
       "    }\n",
       "\n",
       "    .dataframe tbody tr th {\n",
       "        vertical-align: top;\n",
       "    }\n",
       "</style>\n",
       "<table border=\"1\" class=\"dataframe\">\n",
       "  <thead>\n",
       "    <tr style=\"text-align: right;\">\n",
       "      <th></th>\n",
       "      <th>Pclass</th>\n",
       "      <th>Sex</th>\n",
       "      <th>SibSp</th>\n",
       "      <th>Parch</th>\n",
       "      <th>Fare</th>\n",
       "      <th>Embarked</th>\n",
       "      <th>Age</th>\n",
       "      <th>honor</th>\n",
       "    </tr>\n",
       "  </thead>\n",
       "  <tbody>\n",
       "    <tr>\n",
       "      <th>0</th>\n",
       "      <td>3</td>\n",
       "      <td>0</td>\n",
       "      <td>1</td>\n",
       "      <td>0</td>\n",
       "      <td>7.2500</td>\n",
       "      <td>0.0</td>\n",
       "      <td>22</td>\n",
       "      <td>1</td>\n",
       "    </tr>\n",
       "    <tr>\n",
       "      <th>1</th>\n",
       "      <td>1</td>\n",
       "      <td>1</td>\n",
       "      <td>1</td>\n",
       "      <td>0</td>\n",
       "      <td>71.2833</td>\n",
       "      <td>1.0</td>\n",
       "      <td>38</td>\n",
       "      <td>1</td>\n",
       "    </tr>\n",
       "    <tr>\n",
       "      <th>2</th>\n",
       "      <td>3</td>\n",
       "      <td>1</td>\n",
       "      <td>0</td>\n",
       "      <td>0</td>\n",
       "      <td>7.9250</td>\n",
       "      <td>0.0</td>\n",
       "      <td>26</td>\n",
       "      <td>2</td>\n",
       "    </tr>\n",
       "    <tr>\n",
       "      <th>3</th>\n",
       "      <td>1</td>\n",
       "      <td>1</td>\n",
       "      <td>1</td>\n",
       "      <td>0</td>\n",
       "      <td>53.1000</td>\n",
       "      <td>0.0</td>\n",
       "      <td>35</td>\n",
       "      <td>1</td>\n",
       "    </tr>\n",
       "    <tr>\n",
       "      <th>4</th>\n",
       "      <td>3</td>\n",
       "      <td>0</td>\n",
       "      <td>0</td>\n",
       "      <td>0</td>\n",
       "      <td>8.0500</td>\n",
       "      <td>0.0</td>\n",
       "      <td>35</td>\n",
       "      <td>1</td>\n",
       "    </tr>\n",
       "  </tbody>\n",
       "</table>\n",
       "</div>"
      ],
      "text/plain": [
       "   Pclass  Sex  SibSp  Parch     Fare  Embarked Age honor\n",
       "0       3    0      1      0   7.2500       0.0  22     1\n",
       "1       1    1      1      0  71.2833       1.0  38     1\n",
       "2       3    1      0      0   7.9250       0.0  26     2\n",
       "3       1    1      1      0  53.1000       0.0  35     1\n",
       "4       3    0      0      0   8.0500       0.0  35     1"
      ]
     },
     "execution_count": 42,
     "metadata": {},
     "output_type": "execute_result"
    }
   ],
   "source": [
    "df.head()"
   ]
  },
  {
   "cell_type": "code",
   "execution_count": 43,
   "metadata": {},
   "outputs": [],
   "source": [
    "X= df.as_matrix()\n",
    "\n"
   ]
  },
  {
   "cell_type": "code",
   "execution_count": 44,
   "metadata": {
    "collapsed": true
   },
   "outputs": [],
   "source": [
    "#ランダムフォレストで学習。\n",
    "X_train, X_test, y_train, y_test = train_test_split(X, y, random_state=0)"
   ]
  },
  {
   "cell_type": "code",
   "execution_count": 45,
   "metadata": {},
   "outputs": [
    {
     "data": {
      "text/plain": [
       "RandomForestClassifier(bootstrap=True, class_weight=None, criterion='gini',\n",
       "            max_depth=None, max_features='auto', max_leaf_nodes=None,\n",
       "            min_impurity_decrease=0.0, min_impurity_split=None,\n",
       "            min_samples_leaf=3, min_samples_split=2,\n",
       "            min_weight_fraction_leaf=0.0, n_estimators=10, n_jobs=1,\n",
       "            oob_score=False, random_state=0, verbose=0, warm_start=False)"
      ]
     },
     "execution_count": 45,
     "metadata": {},
     "output_type": "execute_result"
    }
   ],
   "source": [
    "forest = RandomForestClassifier(min_samples_leaf=3, random_state=0)\n",
    "forest.fit(X_train, y_train)"
   ]
  },
  {
   "cell_type": "code",
   "execution_count": 46,
   "metadata": {},
   "outputs": [
    {
     "name": "stdout",
     "output_type": "stream",
     "text": [
      "Train score: 0.8877245508982036\n",
      "Test score: 0.8385650224215246\n"
     ]
    }
   ],
   "source": [
    "print('Train score: {}'.format(forest.score(X_train, y_train)))\n",
    "print('Test score: {}'.format(forest.score(X_test, y_test)))"
   ]
  },
  {
   "cell_type": "code",
   "execution_count": 47,
   "metadata": {},
   "outputs": [
    {
     "data": {
      "text/plain": [
       "GradientBoostingClassifier(criterion='friedman_mse', init=None,\n",
       "              learning_rate=0.1, loss='deviance', max_depth=3,\n",
       "              max_features=None, max_leaf_nodes=None,\n",
       "              min_impurity_decrease=0.0, min_impurity_split=None,\n",
       "              min_samples_leaf=1, min_samples_split=2,\n",
       "              min_weight_fraction_leaf=0.0, n_estimators=100,\n",
       "              presort='auto', random_state=0, subsample=1.0, verbose=0,\n",
       "              warm_start=False)"
      ]
     },
     "execution_count": 47,
     "metadata": {},
     "output_type": "execute_result"
    }
   ],
   "source": [
    "#勾配ブースティングで学習。\n",
    "from sklearn.ensemble import GradientBoostingClassifier\n",
    "gbct = GradientBoostingClassifier(random_state=0, max_depth=3, learning_rate=0.1)\n",
    "gbct.fit(X_train, y_train)"
   ]
  },
  {
   "cell_type": "code",
   "execution_count": 48,
   "metadata": {},
   "outputs": [
    {
     "name": "stdout",
     "output_type": "stream",
     "text": [
      "train accuracy: 0.910\n",
      "test  accuracy: 0.852\n"
     ]
    }
   ],
   "source": [
    "print('train accuracy: %.3f' % gbct.score(X_train, y_train))\n",
    "print('test  accuracy: %.3f' % gbct.score(X_test, y_test))"
   ]
  },
  {
   "cell_type": "code",
   "execution_count": 54,
   "metadata": {
    "collapsed": true
   },
   "outputs": [],
   "source": [
    "df2 = pd.read_csv(\"test.csv\")\n",
    "df2 = df2.drop([\"PassengerId\",\"Ticket\",\"Cabin\"], axis = 1)\n",
    "df2 = df2.replace(\"male\",0).replace(\"female\",1)\n",
    "df2 = df2.replace(\"S\",0).replace(\"C\",1).replace(\"Q\",2)\n",
    "df2 = df2.fillna(value = {'Embarked': 1})\n",
    "df2 = df2.fillna(value = {\"Age\":-1})\n",
    "honor = []\n",
    "for i in df2[\"Name\"]:\n",
    "    if \"Master\" in i :\n",
    "        honor.append(0)\n",
    "    elif \"Mr\" in i :\n",
    "        honor.append(1)\n",
    "    elif \"Miss\" in i :\n",
    "        honor.append(2)\n",
    "    elif \"Mrs\" in i :\n",
    "        honor.append(3)\n",
    "    else:\n",
    "        honor.append(\"4\")\n",
    "    \n",
    "df2['honor'] = np.array(honor)\n",
    "a = df2.loc[:,[\"Age\",\"honor\"]]\n",
    "a =np.array(a)\n",
    "for i in a:\n",
    "    if i[0] == -1:\n",
    "        i[0] =df2[df2[\"honor\"]==i[1]][\"Age\"].mean()\n",
    "frame = pd.DataFrame(a, columns=[\"Age\", \"honor\"])\n",
    "df2 = df2.drop([\"Age\",\"honor\",\"Name\"], axis = 1)\n",
    "df2 = pd.concat([df2, frame], axis=1)"
   ]
  },
  {
   "cell_type": "code",
   "execution_count": 55,
   "metadata": {},
   "outputs": [],
   "source": [
    "df2 = df2.fillna(df2.mean())\n",
    "X1= df2.as_matrix()"
   ]
  },
  {
   "cell_type": "code",
   "execution_count": 56,
   "metadata": {},
   "outputs": [],
   "source": [
    "y1 = gbct.predict(X1)"
   ]
  },
  {
   "cell_type": "code",
   "execution_count": 57,
   "metadata": {
    "collapsed": true
   },
   "outputs": [],
   "source": [
    "a =[i for i in range(892,1310)]\n",
    "dfnew2 = pd.DataFrame({'PassengerId':a ,'Survived': y1})\n",
    "dfnew2.to_csv(\"pred10.csv\") "
   ]
  },
  {
   "cell_type": "code",
   "execution_count": 58,
   "metadata": {
    "collapsed": true
   },
   "outputs": [],
   "source": [
    "y2 = forest.predict(X1)"
   ]
  },
  {
   "cell_type": "code",
   "execution_count": 59,
   "metadata": {
    "collapsed": true
   },
   "outputs": [],
   "source": [
    "a =[i for i in range(892,1310)]\n",
    "dfnew2 = pd.DataFrame({'PassengerId':a ,'Survived': y2})\n",
    "dfnew2.to_csv(\"pred11.csv\") "
   ]
  },
  {
   "cell_type": "code",
   "execution_count": null,
   "metadata": {
    "collapsed": true
   },
   "outputs": [],
   "source": []
  }
 ],
 "metadata": {
  "kernelspec": {
   "display_name": "Python 3",
   "language": "python",
   "name": "python3"
  },
  "language_info": {
   "codemirror_mode": {
    "name": "ipython",
    "version": 3
   },
   "file_extension": ".py",
   "mimetype": "text/x-python",
   "name": "python",
   "nbconvert_exporter": "python",
   "pygments_lexer": "ipython3",
   "version": "3.6.2"
  }
 },
 "nbformat": 4,
 "nbformat_minor": 2
}
