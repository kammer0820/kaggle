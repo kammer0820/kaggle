{
 "cells": [
  {
   "cell_type": "code",
   "execution_count": 402,
   "metadata": {
    "collapsed": true
   },
   "outputs": [],
   "source": [
    "import pandas as pd\n",
    "import numpy as np\n",
    "import matplotlib.pyplot as plt\n",
    "%matplotlib inline\n",
    "\n",
    "df1 = pd.read_csv(\"train.csv\")\n",
    "df2 = pd.read_csv(\"test.csv\")"
   ]
  },
  {
   "cell_type": "code",
   "execution_count": 403,
   "metadata": {},
   "outputs": [
    {
     "name": "stdout",
     "output_type": "stream",
     "text": [
      "0.3838383838383838\n",
      "0.29985443959243085\n",
      "0.6666666666666666\n"
     ]
    }
   ],
   "source": [
    "print(len(df1[df1[\"Survived\"]==1].values)/891)\n",
    "print(len(df1[(pd.isnull(df1[\"Cabin\"]))&(df1[\"Survived\"]==1)].values)/len(df1[pd.isnull(df1[\"Cabin\"])].values))\n",
    "print(len(df1[(pd.notnull(df1[\"Cabin\"]))&(df1[\"Survived\"]==1)].values)/len(df1[pd.notnull(df1[\"Cabin\"])].values))"
   ]
  },
  {
   "cell_type": "code",
   "execution_count": 404,
   "metadata": {
    "collapsed": true
   },
   "outputs": [],
   "source": [
    "#traindataを元に家族別の生存率を追加\n",
    "name_df_train = df1.iloc[:,3]\n",
    "survive_array = df1.iloc[:,1]\n",
    "\n",
    "name_df = name_df_train\n",
    "\n",
    "name_array = []\n",
    "name_count = []\n",
    "name_survive_count = []\n",
    "name_survive_ratio = []\n",
    "\n",
    "name_i = 0\n",
    "\n",
    "for name in name_df:\n",
    "    name_split = name.split(\" \")\n",
    "    name_split_first = name_split[0].replace(',','')\n",
    "    if name_split_first in name_array:\n",
    "        name_count[name_array.index(name_split_first)] = name_count[name_array.index(name_split_first)] + 1\n",
    "        name_survive_count[name_array.index(name_split_first)] = name_survive_count[name_array.index(name_split_first)] + survive_array[name_i]                            \n",
    "    else:\n",
    "        name_array.append(name_split_first)\n",
    "        name_count.append(1)\n",
    "        name_survive_count.append(survive_array[name_i])\n",
    "    name_i = name_i + 1\n",
    "        \n",
    "count = 0\n",
    "for i in name_count:\n",
    "    if name_count[count] == 1:\n",
    "        name_survive_ratio.append(-1)\n",
    "    else:\n",
    "        name_survive_ratio.append(name_survive_count[count]/(name_count[count]))\n",
    "    count = count + 1\n",
    "    \n",
    "survive_ratio_array = []    \n",
    "\n",
    "for name in name_df:\n",
    "    name_split = name.split(\" \")\n",
    "    name_split_first = name_split[0].replace(',','')\n",
    "    survive_ratio_array.append(name_survive_ratio[name_array.index(name_split_first)])\n",
    "\n",
    "df1['familysurviveratio'] = np.array(survive_ratio_array)"
   ]
  },
  {
   "cell_type": "code",
   "execution_count": 405,
   "metadata": {
    "collapsed": true
   },
   "outputs": [],
   "source": [
    "#testdataにも家族別生存率を追加\n",
    "name_df_test = df2.iloc[:,2]\n",
    "survive_ratio_test =[]\n",
    "for name in name_df_test:\n",
    "    name_split = name.split(\" \")\n",
    "    name_split_first = name_split[0].replace(',','')                                         \n",
    "    if name_split_first in name_array:\n",
    "        survive_ratio_test.append(name_survive_ratio[name_array.index(name_split_first)])\n",
    "    else:\n",
    "        survive_ratio_test.append(-1)\n",
    "df2= df2.drop([\"Ticket\"], axis = 1)        \n",
    "df2['familysurviveratio'] = np.array(survive_ratio_test)"
   ]
  },
  {
   "cell_type": "code",
   "execution_count": 406,
   "metadata": {
    "collapsed": true
   },
   "outputs": [],
   "source": [
    "#1つのデータフレームにして処理を行う\n",
    "df =  pd.concat([df1,df2])"
   ]
  },
  {
   "cell_type": "code",
   "execution_count": 407,
   "metadata": {
    "collapsed": true
   },
   "outputs": [],
   "source": [
    "df = df.reset_index(drop=True)"
   ]
  },
  {
   "cell_type": "code",
   "execution_count": 408,
   "metadata": {
    "collapsed": true
   },
   "outputs": [],
   "source": [
    "#敬称を追加\n",
    "honor = []\n",
    "for i in df[\"Name\"]:\n",
    "    if \"Master\" in i :\n",
    "        honor.append(0)\n",
    "    elif \"Mr\" in i and \"Mrs\" not in i:\n",
    "        honor.append(1)\n",
    "    elif \"Miss\" in i :\n",
    "        honor.append(2)\n",
    "    elif \"Mrs\" in i :\n",
    "        honor.append(3)\n",
    "    else:\n",
    "        honor.append(4)\n",
    "    \n",
    "df['honor'] = np.array(honor)"
   ]
  },
  {
   "cell_type": "code",
   "execution_count": 409,
   "metadata": {
    "collapsed": true
   },
   "outputs": [],
   "source": [
    "#家族の人数を追加\n",
    "df[\"FamilySize\"] = df[\"SibSp\"] + df[\"Parch\"] + 1"
   ]
  },
  {
   "cell_type": "code",
   "execution_count": 410,
   "metadata": {
    "collapsed": true
   },
   "outputs": [],
   "source": [
    "#家族の人数に応じたラベルを追加\n",
    "def familysizerange(FamilySize):\n",
    "    if FamilySize == 1:\n",
    "        return 0\n",
    "    elif FamilySize ==2 or FamilySize == 3:\n",
    "        return 1\n",
    "    elif FamilySize >= 4:\n",
    "        return 2\n",
    "    \n",
    "df[\"familysizerange\"] = df.FamilySize.apply(familysizerange)"
   ]
  },
  {
   "cell_type": "code",
   "execution_count": 411,
   "metadata": {},
   "outputs": [],
   "source": [
    "def Cabinisnull(Cabin):\n",
    "    if pd.isnull(Cabin):\n",
    "        return 0\n",
    "    else:\n",
    "        return 1\n",
    "    \n",
    "df[\"Cabinisnull\"] = df.Cabin.apply(Cabinisnull)"
   ]
  },
  {
   "cell_type": "code",
   "execution_count": 412,
   "metadata": {
    "collapsed": true
   },
   "outputs": [],
   "source": [
    "#ダミー変数化\n",
    "df = df.replace(\"male\",0).replace(\"female\",1).replace(\"S\",0).replace(\"C\",1).replace(\"Q\",2)"
   ]
  },
  {
   "cell_type": "code",
   "execution_count": 413,
   "metadata": {
    "collapsed": true
   },
   "outputs": [],
   "source": [
    "#年齢の欠損を敬称、性別、Pclassの一致する人の中央値で埋める。\n",
    "df = df.fillna(value = {\"Age\":-1})\n",
    "a = df.loc[:,[\"Age\",\"honor\",\"Pclass\",\"Sex\"]].values\n",
    "for i in a:\n",
    "    if i[0] == -1:\n",
    "        i[0] =df[(df[\"honor\"]==i[1])&(df[\"Pclass\"]==i[2])&(df[\"Sex\"]==i[3])][\"Age\"].median()\n",
    "frame = pd.DataFrame(a, columns=[\"Age\", \"honor\",\"Pclass\",\"Sex\"])\n",
    "df.drop([\"Age\",\"honor\",\"Pclass\",\"Sex\"],axis = 1,inplace = True)\n",
    "df = pd.concat([df, frame], axis=1)"
   ]
  },
  {
   "cell_type": "code",
   "execution_count": 414,
   "metadata": {},
   "outputs": [],
   "source": [
    "#家族の人数に応じたラベルを追加\n",
    "def familysizerange(FamilySize):\n",
    "    if FamilySize == 1:\n",
    "        return 0\n",
    "    elif FamilySize ==2 or FamilySize == 3:\n",
    "        return 1\n",
    "    elif FamilySize >= 4:\n",
    "        return 2\n",
    "    \n",
    "df[\"familysizerange\"] = df.FamilySize.apply(familysizerange)"
   ]
  },
  {
   "cell_type": "code",
   "execution_count": 415,
   "metadata": {
    "collapsed": true
   },
   "outputs": [],
   "source": [
    "#Ageを5歳幅に区切る。\n",
    "def agerange(Age):\n",
    "    return int(Age/5) \n",
    "\n",
    "df[\"agerange\"] = df.Age.apply(agerange)\n",
    "df.drop([\"Age\"],axis = 1,inplace  =True)"
   ]
  },
  {
   "cell_type": "code",
   "execution_count": 416,
   "metadata": {
    "collapsed": true
   },
   "outputs": [],
   "source": [
    "# 学習用にsurvivedを取り出しておく。取り出したらSurvivedは消す。\n",
    "y = df[\"Survived\"][:890].as_matrix()\n",
    "df.drop([\"Survived\"],axis = 1,inplace = True)"
   ]
  },
  {
   "cell_type": "code",
   "execution_count": 417,
   "metadata": {
    "collapsed": true
   },
   "outputs": [],
   "source": [
    "#欠損値を埋める(ほぼ無いので適当に中央値で埋める)\n",
    "df = df.fillna(df.median())"
   ]
  },
  {
   "cell_type": "code",
   "execution_count": 418,
   "metadata": {},
   "outputs": [
    {
     "data": {
      "text/plain": [
       "Cabin                  295\n",
       "Embarked              1309\n",
       "Fare                  1309\n",
       "Name                  1309\n",
       "Parch                 1309\n",
       "PassengerId           1309\n",
       "SibSp                 1309\n",
       "Ticket                 891\n",
       "familysurviveratio    1309\n",
       "FamilySize            1309\n",
       "familysizerange       1309\n",
       "Cabinisnull           1309\n",
       "honor                 1309\n",
       "Pclass                1309\n",
       "Sex                   1309\n",
       "agerange              1309\n",
       "dtype: int64"
      ]
     },
     "execution_count": 418,
     "metadata": {},
     "output_type": "execute_result"
    }
   ],
   "source": [
    "df.count()"
   ]
  },
  {
   "cell_type": "code",
   "execution_count": 419,
   "metadata": {},
   "outputs": [],
   "source": [
    "#使わない情報を落とす\n",
    "df.drop([\"Cabin\",\"Parch\",\"SibSp\",\"Ticket\",\"FamilySize\",\"Name\",\"PassengerId\"],axis =1,inplace = True)"
   ]
  },
  {
   "cell_type": "code",
   "execution_count": 420,
   "metadata": {},
   "outputs": [
    {
     "data": {
      "text/html": [
       "<div>\n",
       "<style>\n",
       "    .dataframe thead tr:only-child th {\n",
       "        text-align: right;\n",
       "    }\n",
       "\n",
       "    .dataframe thead th {\n",
       "        text-align: left;\n",
       "    }\n",
       "\n",
       "    .dataframe tbody tr th {\n",
       "        vertical-align: top;\n",
       "    }\n",
       "</style>\n",
       "<table border=\"1\" class=\"dataframe\">\n",
       "  <thead>\n",
       "    <tr style=\"text-align: right;\">\n",
       "      <th></th>\n",
       "      <th>Embarked</th>\n",
       "      <th>Fare</th>\n",
       "      <th>familysurviveratio</th>\n",
       "      <th>familysizerange</th>\n",
       "      <th>Cabinisnull</th>\n",
       "      <th>honor</th>\n",
       "      <th>Pclass</th>\n",
       "      <th>Sex</th>\n",
       "      <th>agerange</th>\n",
       "    </tr>\n",
       "  </thead>\n",
       "  <tbody>\n",
       "    <tr>\n",
       "      <th>0</th>\n",
       "      <td>0.0</td>\n",
       "      <td>7.2500</td>\n",
       "      <td>0.0</td>\n",
       "      <td>1</td>\n",
       "      <td>0</td>\n",
       "      <td>1.0</td>\n",
       "      <td>3.0</td>\n",
       "      <td>0.0</td>\n",
       "      <td>4</td>\n",
       "    </tr>\n",
       "    <tr>\n",
       "      <th>1</th>\n",
       "      <td>1.0</td>\n",
       "      <td>71.2833</td>\n",
       "      <td>-1.0</td>\n",
       "      <td>1</td>\n",
       "      <td>1</td>\n",
       "      <td>3.0</td>\n",
       "      <td>1.0</td>\n",
       "      <td>1.0</td>\n",
       "      <td>7</td>\n",
       "    </tr>\n",
       "    <tr>\n",
       "      <th>2</th>\n",
       "      <td>0.0</td>\n",
       "      <td>7.9250</td>\n",
       "      <td>-1.0</td>\n",
       "      <td>0</td>\n",
       "      <td>0</td>\n",
       "      <td>2.0</td>\n",
       "      <td>3.0</td>\n",
       "      <td>1.0</td>\n",
       "      <td>5</td>\n",
       "    </tr>\n",
       "    <tr>\n",
       "      <th>3</th>\n",
       "      <td>0.0</td>\n",
       "      <td>53.1000</td>\n",
       "      <td>0.5</td>\n",
       "      <td>1</td>\n",
       "      <td>1</td>\n",
       "      <td>3.0</td>\n",
       "      <td>1.0</td>\n",
       "      <td>1.0</td>\n",
       "      <td>7</td>\n",
       "    </tr>\n",
       "    <tr>\n",
       "      <th>4</th>\n",
       "      <td>0.0</td>\n",
       "      <td>8.0500</td>\n",
       "      <td>0.5</td>\n",
       "      <td>0</td>\n",
       "      <td>0</td>\n",
       "      <td>1.0</td>\n",
       "      <td>3.0</td>\n",
       "      <td>0.0</td>\n",
       "      <td>7</td>\n",
       "    </tr>\n",
       "  </tbody>\n",
       "</table>\n",
       "</div>"
      ],
      "text/plain": [
       "   Embarked     Fare  familysurviveratio  familysizerange  Cabinisnull  honor  \\\n",
       "0       0.0   7.2500                 0.0                1            0    1.0   \n",
       "1       1.0  71.2833                -1.0                1            1    3.0   \n",
       "2       0.0   7.9250                -1.0                0            0    2.0   \n",
       "3       0.0  53.1000                 0.5                1            1    3.0   \n",
       "4       0.0   8.0500                 0.5                0            0    1.0   \n",
       "\n",
       "   Pclass  Sex  agerange  \n",
       "0     3.0  0.0         4  \n",
       "1     1.0  1.0         7  \n",
       "2     3.0  1.0         5  \n",
       "3     1.0  1.0         7  \n",
       "4     3.0  0.0         7  "
      ]
     },
     "execution_count": 420,
     "metadata": {},
     "output_type": "execute_result"
    }
   ],
   "source": [
    "df.head()"
   ]
  },
  {
   "cell_type": "code",
   "execution_count": 421,
   "metadata": {
    "collapsed": true
   },
   "outputs": [],
   "source": [
    "#traindataの取り出し\n",
    "X = df.iloc[:,:][:890].values"
   ]
  },
  {
   "cell_type": "code",
   "execution_count": 422,
   "metadata": {
    "collapsed": true
   },
   "outputs": [],
   "source": [
    "from sklearn.model_selection import train_test_split\n",
    "import xgboost as xgb"
   ]
  },
  {
   "cell_type": "code",
   "execution_count": 425,
   "metadata": {},
   "outputs": [
    {
     "name": "stdout",
     "output_type": "stream",
     "text": [
      "train accuracy: 0.907\n",
      "test  accuracy: 0.846\n"
     ]
    }
   ],
   "source": [
    "X_train, X_test, y_train, y_test = train_test_split(X, y, test_size=0.3, random_state=0)\n",
    "mod = xgb.XGBClassifier()\n",
    "mod.fit(X_train, y_train)\n",
    "print('train accuracy: %.3f' % mod.score(X_train, y_train))\n",
    "print('test  accuracy: %.3f' % mod.score(X_test, y_test))"
   ]
  },
  {
   "cell_type": "code",
   "execution_count": 426,
   "metadata": {
    "collapsed": true
   },
   "outputs": [],
   "source": [
    "#testdataの取り出し\n",
    "x1 = df.iloc[:,:][891:].values\n",
    "#予測\n",
    "y1 = mod.predict(x1)"
   ]
  },
  {
   "cell_type": "code",
   "execution_count": 427,
   "metadata": {
    "collapsed": true
   },
   "outputs": [],
   "source": [
    "#csvデータに書き出す。\n",
    "a =[i for i in range(892,1310)]\n",
    "dfnew2 = pd.DataFrame({'PassengerId':a ,'Survived': y1})\n",
    "dfnew2.to_csv(\"pred47.csv\", index = False)"
   ]
  },
  {
   "cell_type": "code",
   "execution_count": null,
   "metadata": {
    "collapsed": true
   },
   "outputs": [],
   "source": []
  }
 ],
 "metadata": {
  "kernelspec": {
   "display_name": "Python 3",
   "language": "python",
   "name": "python3"
  },
  "language_info": {
   "codemirror_mode": {
    "name": "ipython",
    "version": 3
   },
   "file_extension": ".py",
   "mimetype": "text/x-python",
   "name": "python",
   "nbconvert_exporter": "python",
   "pygments_lexer": "ipython3",
   "version": "3.6.2"
  }
 },
 "nbformat": 4,
 "nbformat_minor": 2
}
