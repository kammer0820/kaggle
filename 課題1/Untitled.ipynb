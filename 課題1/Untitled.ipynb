{
 "cells": [
  {
   "cell_type": "code",
   "execution_count": 83,
   "metadata": {
    "collapsed": true
   },
   "outputs": [],
   "source": [
    "import numpy as np\n",
    "import pandas as pd\n",
    "import matplotlib.pyplot as plt\n",
    "%matplotlib inline\n",
    "from sklearn.model_selection import train_test_split\n",
    "from sklearn.ensemble import RandomForestRegressor"
   ]
  },
  {
   "cell_type": "code",
   "execution_count": 84,
   "metadata": {},
   "outputs": [
    {
     "data": {
      "text/plain": [
       "array(['MSSubClass', 'Neighborhood', 'OverallQual', 'YearBuilt',\n",
       "       'YearRemodAdd', 'MasVnrType', 'MasVnrArea', 'ExterQual',\n",
       "       'Foundation', 'BsmtQual', 'TotalBsmtSF', 'HeatingQC', '1stFlrSF',\n",
       "       'GrLivArea', 'FullBath', 'KitchenQual', 'TotRmsAbvGrd',\n",
       "       'Fireplaces', 'GarageType', 'GarageYrBlt', 'GarageFinish',\n",
       "       'GarageCars', 'GarageArea', 'SalePrice'], dtype=object)"
      ]
     },
     "execution_count": 84,
     "metadata": {},
     "output_type": "execute_result"
    }
   ],
   "source": [
    "df = pd.read_csv('train.csv')\n",
    "df.columns.values"
   ]
  },
  {
   "cell_type": "code",
   "execution_count": 85,
   "metadata": {},
   "outputs": [],
   "source": [
    "X= df.drop([\"SalePrice\"],axis=1)\n",
    "y = df[\"SalePrice\"].as_matrix()\n",
    "X_train, X_test, y_train, y_test = train_test_split(X, y, test_size = 0.3)"
   ]
  },
  {
   "cell_type": "code",
   "execution_count": 86,
   "metadata": {},
   "outputs": [
    {
     "data": {
      "text/plain": [
       "0.85145577334872991"
      ]
     },
     "execution_count": 86,
     "metadata": {},
     "output_type": "execute_result"
    }
   ],
   "source": [
    "forest = RandomForestRegressor(random_state=0, n_estimators=100)\n",
    "forest.fit(X_train, y_train)\n",
    "forest.score(X_test,y_test)"
   ]
  },
  {
   "cell_type": "code",
   "execution_count": 87,
   "metadata": {},
   "outputs": [
    {
     "data": {
      "text/plain": [
       "array([ 0.00875164,  0.08212094,  0.50859883,  0.01112532,  0.0096659 ,\n",
       "        0.00275216,  0.01191957,  0.00445777,  0.00167895,  0.00759663,\n",
       "        0.0514034 ,  0.0023711 ,  0.07262917,  0.11300099,  0.0052964 ,\n",
       "        0.00396749,  0.01638966,  0.00757007,  0.00561424,  0.00769746,\n",
       "        0.00322473,  0.03812877,  0.02403883])"
      ]
     },
     "execution_count": 87,
     "metadata": {},
     "output_type": "execute_result"
    }
   ],
   "source": [
    "forest.feature_importances_"
   ]
  },
  {
   "cell_type": "code",
   "execution_count": 88,
   "metadata": {},
   "outputs": [
    {
     "data": {
      "text/plain": [
       "{'1stFlrSF': 0.072629172135820208,\n",
       " 'BsmtQual': 0.0075966327761555017,\n",
       " 'ExterQual': 0.0044577687214760152,\n",
       " 'Fireplaces': 0.0075700708097147622,\n",
       " 'Foundation': 0.0016789509391350965,\n",
       " 'FullBath': 0.0052963963184226382,\n",
       " 'GarageArea': 0.024038832888340602,\n",
       " 'GarageCars': 0.038128771013597372,\n",
       " 'GarageFinish': 0.003224727654308663,\n",
       " 'GarageType': 0.0056142398773300515,\n",
       " 'GarageYrBlt': 0.0076974574431266539,\n",
       " 'GrLivArea': 0.11300098502483738,\n",
       " 'HeatingQC': 0.0023710986543694717,\n",
       " 'KitchenQual': 0.0039674899803333859,\n",
       " 'MSSubClass': 0.0087516362111601832,\n",
       " 'MasVnrArea': 0.011919569590527373,\n",
       " 'MasVnrType': 0.0027521591119607385,\n",
       " 'Neighborhood': 0.082120935336279482,\n",
       " 'OverallQual': 0.5085988316128307,\n",
       " 'TotRmsAbvGrd': 0.016389656595346164,\n",
       " 'TotalBsmtSF': 0.05140339909054277,\n",
       " 'YearBuilt': 0.011125317900700739,\n",
       " 'YearRemodAdd': 0.0096659003136839259}"
      ]
     },
     "execution_count": 88,
     "metadata": {},
     "output_type": "execute_result"
    }
   ],
   "source": [
    "dct = dict(zip(df.columns.values, forest.feature_importances_))\n",
    "dct"
   ]
  },
  {
   "cell_type": "code",
   "execution_count": 89,
   "metadata": {},
   "outputs": [
    {
     "data": {
      "text/plain": [
       "[('Foundation', 0.0016789509391350965),\n",
       " ('HeatingQC', 0.0023710986543694717),\n",
       " ('MasVnrType', 0.0027521591119607385),\n",
       " ('GarageFinish', 0.003224727654308663),\n",
       " ('KitchenQual', 0.0039674899803333859),\n",
       " ('ExterQual', 0.0044577687214760152),\n",
       " ('FullBath', 0.0052963963184226382),\n",
       " ('GarageType', 0.0056142398773300515),\n",
       " ('Fireplaces', 0.0075700708097147622),\n",
       " ('BsmtQual', 0.0075966327761555017),\n",
       " ('GarageYrBlt', 0.0076974574431266539),\n",
       " ('MSSubClass', 0.0087516362111601832),\n",
       " ('YearRemodAdd', 0.0096659003136839259),\n",
       " ('YearBuilt', 0.011125317900700739),\n",
       " ('MasVnrArea', 0.011919569590527373),\n",
       " ('TotRmsAbvGrd', 0.016389656595346164),\n",
       " ('GarageArea', 0.024038832888340602),\n",
       " ('GarageCars', 0.038128771013597372),\n",
       " ('TotalBsmtSF', 0.05140339909054277),\n",
       " ('1stFlrSF', 0.072629172135820208),\n",
       " ('Neighborhood', 0.082120935336279482),\n",
       " ('GrLivArea', 0.11300098502483738),\n",
       " ('OverallQual', 0.5085988316128307)]"
      ]
     },
     "execution_count": 89,
     "metadata": {},
     "output_type": "execute_result"
    }
   ],
   "source": [
    "sorted(dct.items(), key=lambda x: x[1])"
   ]
  },
  {
   "cell_type": "code",
   "execution_count": 90,
   "metadata": {},
   "outputs": [],
   "source": [
    "X1= df.loc[:,['OverallQual','GrLivArea','Neighborhood','TotalBsmtSF']]"
   ]
  },
  {
   "cell_type": "code",
   "execution_count": 91,
   "metadata": {
    "collapsed": true
   },
   "outputs": [],
   "source": [
    "X_train, X_test, y_train, y_test = train_test_split(X1, y, test_size = 0.3)"
   ]
  },
  {
   "cell_type": "code",
   "execution_count": 92,
   "metadata": {},
   "outputs": [
    {
     "data": {
      "text/plain": [
       "RandomForestRegressor(bootstrap=True, criterion='mse', max_depth=None,\n",
       "           max_features='auto', max_leaf_nodes=None,\n",
       "           min_impurity_decrease=0.0, min_impurity_split=None,\n",
       "           min_samples_leaf=1, min_samples_split=2,\n",
       "           min_weight_fraction_leaf=0.0, n_estimators=100, n_jobs=1,\n",
       "           oob_score=False, random_state=0, verbose=0, warm_start=False)"
      ]
     },
     "execution_count": 92,
     "metadata": {},
     "output_type": "execute_result"
    }
   ],
   "source": [
    "forest = RandomForestRegressor(random_state=0, n_estimators=100)\n",
    "forest.fit(X_train, y_train)"
   ]
  },
  {
   "cell_type": "code",
   "execution_count": 93,
   "metadata": {},
   "outputs": [
    {
     "data": {
      "text/plain": [
       "0.83857836497910065"
      ]
     },
     "execution_count": 93,
     "metadata": {},
     "output_type": "execute_result"
    }
   ],
   "source": [
    "forest.score(X_test,y_test)"
   ]
  },
  {
   "cell_type": "code",
   "execution_count": 94,
   "metadata": {
    "collapsed": true
   },
   "outputs": [],
   "source": [
    "df2 = pd.read_csv('test.csv')\n",
    "X2 = df2.loc[:,['OverallQual','GrLivArea','Neighborhood','TotalBsmtSF']]\n",
    "y2 = forest.predict(X2)\n",
    "a =[i for i in range(1461,2920)]\n",
    "dfnew = pd.DataFrame({'SalePrice':y2,'Id': a})\n",
    "dfnew.to_csv(\"pred6.csv\")"
   ]
  },
  {
   "cell_type": "code",
   "execution_count": 97,
   "metadata": {},
   "outputs": [
    {
     "data": {
      "text/plain": [
       "XGBRegressor(base_score=0.5, colsample_bylevel=1, colsample_bytree=1, gamma=0,\n",
       "       learning_rate=0.1, max_delta_step=0, max_depth=3,\n",
       "       min_child_weight=1, missing=None, n_estimators=100, nthread=-1,\n",
       "       objective='reg:linear', reg_alpha=0, reg_lambda=1,\n",
       "       scale_pos_weight=1, seed=0, silent=True, subsample=1)"
      ]
     },
     "execution_count": 97,
     "metadata": {},
     "output_type": "execute_result"
    }
   ],
   "source": [
    "import xgboost as xgb\n",
    "mod = xgb.XGBRegressor()\n",
    "mod.fit(X1, y)"
   ]
  },
  {
   "cell_type": "code",
   "execution_count": 98,
   "metadata": {},
   "outputs": [],
   "source": [
    "y2 = mod.predict(X2)\n",
    "a =[i for i in range(1461,2920)]\n",
    "dfnew = pd.DataFrame({'SalePrice':y2,'Id': a})\n",
    "dfnew.to_csv(\"pred7.csv\")"
   ]
  },
  {
   "cell_type": "code",
   "execution_count": null,
   "metadata": {
    "collapsed": true
   },
   "outputs": [],
   "source": []
  }
 ],
 "metadata": {
  "kernelspec": {
   "display_name": "Python 3",
   "language": "python",
   "name": "python3"
  },
  "language_info": {
   "codemirror_mode": {
    "name": "ipython",
    "version": 3
   },
   "file_extension": ".py",
   "mimetype": "text/x-python",
   "name": "python",
   "nbconvert_exporter": "python",
   "pygments_lexer": "ipython3",
   "version": "3.6.2"
  }
 },
 "nbformat": 4,
 "nbformat_minor": 2
}
