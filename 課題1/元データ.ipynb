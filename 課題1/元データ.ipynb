{
 "cells": [
  {
   "cell_type": "code",
   "execution_count": 24,
   "metadata": {
    "collapsed": true
   },
   "outputs": [],
   "source": [
    "import numpy as np\n",
    "import pandas as pd\n",
    "import matplotlib.pyplot as plt\n",
    "%matplotlib inline\n",
    "from sklearn.model_selection import train_test_split\n",
    "pd.set_option(\"display.max_columns\", 90)"
   ]
  },
  {
   "cell_type": "code",
   "execution_count": 25,
   "metadata": {},
   "outputs": [],
   "source": [
    "df1 = pd.read_csv('train_org.csv')\n",
    "df2 = pd.read_csv('test_org.csv')\n",
    "df = pd.concat([df1,df2])"
   ]
  },
  {
   "cell_type": "code",
   "execution_count": 29,
   "metadata": {},
   "outputs": [],
   "source": [
    "df.reset_index(drop=True,inplace = True)"
   ]
  },
  {
   "cell_type": "code",
   "execution_count": null,
   "metadata": {
    "collapsed": true
   },
   "outputs": [],
   "source": [
    "df.drop([\"Alley\",\"Fence\",\"MiscFeature\",\"Pool\"],axis=1)"
   ]
  },
  {
   "cell_type": "code",
   "execution_count": 41,
   "metadata": {},
   "outputs": [
    {
     "data": {
      "text/plain": [
       "0       0\n",
       "1       0\n",
       "2       0\n",
       "3       0\n",
       "4       0\n",
       "5       0\n",
       "6       0\n",
       "7       0\n",
       "8       0\n",
       "9       0\n",
       "10      0\n",
       "11      0\n",
       "12      0\n",
       "13      0\n",
       "14      0\n",
       "15      0\n",
       "16      0\n",
       "17      0\n",
       "18      0\n",
       "19      0\n",
       "20      0\n",
       "21      0\n",
       "22      0\n",
       "23      0\n",
       "24      0\n",
       "25      0\n",
       "26      0\n",
       "27      0\n",
       "28      0\n",
       "29      0\n",
       "       ..\n",
       "2889    0\n",
       "2890    0\n",
       "2891    0\n",
       "2892    0\n",
       "2893    0\n",
       "2894    0\n",
       "2895    0\n",
       "2896    0\n",
       "2897    0\n",
       "2898    0\n",
       "2899    0\n",
       "2900    0\n",
       "2901    0\n",
       "2902    0\n",
       "2903    0\n",
       "2904    0\n",
       "2905    0\n",
       "2906    0\n",
       "2907    0\n",
       "2908    0\n",
       "2909    0\n",
       "2910    0\n",
       "2911    0\n",
       "2912    0\n",
       "2913    0\n",
       "2914    0\n",
       "2915    0\n",
       "2916    0\n",
       "2917    0\n",
       "2918    0\n",
       "Name: PoolArea, Length: 2919, dtype: int64"
      ]
     },
     "execution_count": 41,
     "metadata": {},
     "output_type": "execute_result"
    }
   ],
   "source": [
    "df.PoolArea"
   ]
  },
  {
   "cell_type": "code",
   "execution_count": 40,
   "metadata": {},
   "outputs": [
    {
     "data": {
      "text/plain": [
       "Neighborhood     2919\n",
       "OpenPorchSF      2919\n",
       "OverallCond      2919\n",
       "OverallQual      2919\n",
       "PavedDrive       2919\n",
       "PoolArea         2919\n",
       "PoolQC             10\n",
       "RoofMatl         2919\n",
       "RoofStyle        2919\n",
       "SaleCondition    2919\n",
       "SalePrice        1460\n",
       "SaleType         2918\n",
       "ScreenPorch      2919\n",
       "Street           2919\n",
       "TotRmsAbvGrd     2919\n",
       "TotalBsmtSF      2918\n",
       "Utilities        2917\n",
       "WoodDeckSF       2919\n",
       "YearBuilt        2919\n",
       "YearRemodAdd     2919\n",
       "YrSold           2919\n",
       "dtype: int64"
      ]
     },
     "execution_count": 40,
     "metadata": {},
     "output_type": "execute_result"
    }
   ],
   "source": [
    "df.count()[60:]"
   ]
  },
  {
   "cell_type": "code",
   "execution_count": null,
   "metadata": {
    "collapsed": true
   },
   "outputs": [],
   "source": []
  }
 ],
 "metadata": {
  "kernelspec": {
   "display_name": "Python 3",
   "language": "python",
   "name": "python3"
  },
  "language_info": {
   "codemirror_mode": {
    "name": "ipython",
    "version": 3
   },
   "file_extension": ".py",
   "mimetype": "text/x-python",
   "name": "python",
   "nbconvert_exporter": "python",
   "pygments_lexer": "ipython3",
   "version": "3.6.2"
  }
 },
 "nbformat": 4,
 "nbformat_minor": 2
}
