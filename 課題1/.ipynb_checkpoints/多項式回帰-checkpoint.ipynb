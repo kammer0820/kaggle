{
 "cells": [
  {
   "cell_type": "code",
   "execution_count": 37,
   "metadata": {
    "collapsed": true
   },
   "outputs": [],
   "source": [
    "import pandas as pd\n",
    "import numpy as np\n",
    "import matplotlib.pyplot as plt\n",
    "% matplotlib inline\n",
    "from sklearn.preprocessing import PolynomialFeatures\n",
    "from sklearn.model_selection import train_test_split\n",
    "from sklearn.linear_model import LinearRegression\n",
    "def adjusted(score, n_sample, n_features):\n",
    "    adjusted_score = 1 - (1 - score) * ((n_sample - 1) / (n_sample - n_features - 1))\n",
    "    return adjusted_score"
   ]
  },
  {
   "cell_type": "code",
   "execution_count": 38,
   "metadata": {
    "collapsed": true
   },
   "outputs": [],
   "source": [
    "df = pd.read_csv('train.csv')\n",
    "x1= df.loc[:, ['OverallQual']].values\n",
    "x2 = df.loc[:, ['GrLivArea']].values\n",
    "y = df.loc[:, ['SalePrice']].values"
   ]
  },
  {
   "cell_type": "code",
   "execution_count": 39,
   "metadata": {},
   "outputs": [
    {
     "data": {
      "text/plain": [
       "array([[  1.,   6.,  36.],\n",
       "       [  1.,   5.,  25.],\n",
       "       [  1.,   6.,  36.],\n",
       "       ..., \n",
       "       [  1.,   6.,  36.],\n",
       "       [  1.,   4.,  16.],\n",
       "       [  1.,   4.,  16.]])"
      ]
     },
     "execution_count": 39,
     "metadata": {},
     "output_type": "execute_result"
    }
   ],
   "source": [
    "quad = PolynomialFeatures(degree=2)    # 2次の多項式規定を生成\n",
    "x1_quad = quad.fit_transform(x1) # 生成した基底関数で変数変換を実行\n",
    "x1_quad\n",
    "\n"
   ]
  },
  {
   "cell_type": "code",
   "execution_count": 40,
   "metadata": {},
   "outputs": [
    {
     "data": {
      "text/plain": [
       "LinearRegression(copy_X=True, fit_intercept=True, n_jobs=1, normalize=False)"
      ]
     },
     "execution_count": 40,
     "metadata": {},
     "output_type": "execute_result"
    }
   ],
   "source": [
    "x1_quad_train, x1_quad_test, y_train, y_test = train_test_split(x1_quad, y, test_size = 0.3, random_state = 0)\n",
    "# 線形回帰のインスタンスを生成\n",
    "model_quad = LinearRegression()\n",
    "\n",
    "# 変換後の変数を利用して実行\n",
    "model_quad.fit(x1_quad_train, y_train)"
   ]
  },
  {
   "cell_type": "code",
   "execution_count": 42,
   "metadata": {},
   "outputs": [
    {
     "name": "stdout",
     "output_type": "stream",
     "text": [
      "model_linear\n",
      "train: 0.615\n",
      "test : 0.647\n",
      "\n",
      "model_quad\n",
      "train: 0.671\n",
      "test : 0.691\n",
      "\n"
     ]
    }
   ],
   "source": [
    "# 線形回帰\n",
    "print('model_linear')\n",
    "print('train: %.3f' % adjusted(model_lin.score(x1_train, y_train), len(y_train), 1))\n",
    "print('test : %.3f' % adjusted(model_lin.score(x1_test, y_test), len(y_test), 1))\n",
    "print('')\n",
    "\n",
    "# 2次関数\n",
    "print('model_quad')\n",
    "print('train: %.3f' % adjusted(model_quad.score(x1_quad_train, y_train), len(y_train), 2))\n",
    "print('test : %.3f' % adjusted(model_quad.score(x1_quad_test, y_test), len(y_test), 2))\n",
    "print('')\n"
   ]
  },
  {
   "cell_type": "code",
   "execution_count": 44,
   "metadata": {},
   "outputs": [
    {
     "data": {
      "text/plain": [
       "LinearRegression(copy_X=True, fit_intercept=True, n_jobs=1, normalize=False)"
      ]
     },
     "execution_count": 44,
     "metadata": {},
     "output_type": "execute_result"
    }
   ],
   "source": [
    "X_quad = np.hstack((x1_quad, x2))\n",
    "# ホールド・アウト法によるデータの分割\n",
    "X_quad_train, X_quad_test, y_train, y_test = train_test_split(X_quad, y, test_size = 0.3, random_state = 0)\n",
    "# 線形回帰による学習\n",
    "model_quad_2 = LinearRegression()\n",
    "model_quad_2.fit(X_quad_train, y_train)"
   ]
  },
  {
   "cell_type": "code",
   "execution_count": 45,
   "metadata": {},
   "outputs": [
    {
     "name": "stdout",
     "output_type": "stream",
     "text": [
      "model_quad_2\n",
      "train: 0.761\n",
      "test : 0.722\n",
      "\n"
     ]
    }
   ],
   "source": [
    "print('model_quad_2')\n",
    "print('train: %.3f' % adjusted(model_quad_2.score(X_quad_train, y_train), len(y_train), 3))\n",
    "print('test : %.3f' % adjusted(model_quad_2.score(X_quad_test, y_test), len(y_test), 3))\n",
    "print('')"
   ]
  }
 ],
 "metadata": {
  "kernelspec": {
   "display_name": "Python 3",
   "language": "python",
   "name": "python3"
  },
  "language_info": {
   "codemirror_mode": {
    "name": "ipython",
    "version": 3
   },
   "file_extension": ".py",
   "mimetype": "text/x-python",
   "name": "python",
   "nbconvert_exporter": "python",
   "pygments_lexer": "ipython3",
   "version": "3.6.2"
  }
 },
 "nbformat": 4,
 "nbformat_minor": 2
}
