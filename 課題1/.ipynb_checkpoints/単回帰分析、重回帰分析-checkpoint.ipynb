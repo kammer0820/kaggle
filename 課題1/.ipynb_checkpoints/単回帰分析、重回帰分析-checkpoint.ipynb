{
 "cells": [
  {
   "cell_type": "code",
   "execution_count": 32,
   "metadata": {
    "collapsed": true
   },
   "outputs": [],
   "source": [
    "import pandas as pd\n",
    "import numpy as np\n",
    "import matplotlib.pyplot as plt\n",
    "% matplotlib inline\n",
    "df = pd.read_csv('train.csv')"
   ]
  },
  {
   "cell_type": "code",
   "execution_count": 29,
   "metadata": {},
   "outputs": [
    {
     "data": {
      "text/html": [
       "<div>\n",
       "<style>\n",
       "    .dataframe thead tr:only-child th {\n",
       "        text-align: right;\n",
       "    }\n",
       "\n",
       "    .dataframe thead th {\n",
       "        text-align: left;\n",
       "    }\n",
       "\n",
       "    .dataframe tbody tr th {\n",
       "        vertical-align: top;\n",
       "    }\n",
       "</style>\n",
       "<table border=\"1\" class=\"dataframe\">\n",
       "  <thead>\n",
       "    <tr style=\"text-align: right;\">\n",
       "      <th></th>\n",
       "      <th>MSSubClass</th>\n",
       "      <th>Neighborhood</th>\n",
       "      <th>OverallQual</th>\n",
       "      <th>YearBuilt</th>\n",
       "      <th>YearRemodAdd</th>\n",
       "      <th>MasVnrType</th>\n",
       "      <th>MasVnrArea</th>\n",
       "      <th>ExterQual</th>\n",
       "      <th>Foundation</th>\n",
       "      <th>BsmtQual</th>\n",
       "      <th>...</th>\n",
       "      <th>FullBath</th>\n",
       "      <th>KitchenQual</th>\n",
       "      <th>TotRmsAbvGrd</th>\n",
       "      <th>Fireplaces</th>\n",
       "      <th>GarageType</th>\n",
       "      <th>GarageYrBlt</th>\n",
       "      <th>GarageFinish</th>\n",
       "      <th>GarageCars</th>\n",
       "      <th>GarageArea</th>\n",
       "      <th>SalePrice</th>\n",
       "    </tr>\n",
       "  </thead>\n",
       "  <tbody>\n",
       "    <tr>\n",
       "      <th>SalePrice</th>\n",
       "      <td>0.476982</td>\n",
       "      <td>0.696882</td>\n",
       "      <td>0.790982</td>\n",
       "      <td>0.619545</td>\n",
       "      <td>0.535370</td>\n",
       "      <td>0.426997</td>\n",
       "      <td>0.475241</td>\n",
       "      <td>0.682639</td>\n",
       "      <td>0.505503</td>\n",
       "      <td>0.635361</td>\n",
       "      <td>...</td>\n",
       "      <td>0.553851</td>\n",
       "      <td>0.659600</td>\n",
       "      <td>0.537672</td>\n",
       "      <td>0.466929</td>\n",
       "      <td>0.430770</td>\n",
       "      <td>0.535419</td>\n",
       "      <td>0.496031</td>\n",
       "      <td>0.692360</td>\n",
       "      <td>0.623431</td>\n",
       "      <td>1.000000</td>\n",
       "    </tr>\n",
       "    <tr>\n",
       "      <th>OverallQual</th>\n",
       "      <td>0.471136</td>\n",
       "      <td>0.667647</td>\n",
       "      <td>1.000000</td>\n",
       "      <td>0.665203</td>\n",
       "      <td>0.552825</td>\n",
       "      <td>0.449358</td>\n",
       "      <td>0.410238</td>\n",
       "      <td>0.726278</td>\n",
       "      <td>0.568969</td>\n",
       "      <td>0.644946</td>\n",
       "      <td>...</td>\n",
       "      <td>0.552153</td>\n",
       "      <td>0.673331</td>\n",
       "      <td>0.423438</td>\n",
       "      <td>0.396765</td>\n",
       "      <td>0.420713</td>\n",
       "      <td>0.574261</td>\n",
       "      <td>0.491404</td>\n",
       "      <td>0.628715</td>\n",
       "      <td>0.562022</td>\n",
       "      <td>0.790982</td>\n",
       "    </tr>\n",
       "    <tr>\n",
       "      <th>GrLivArea</th>\n",
       "      <td>0.347673</td>\n",
       "      <td>0.411751</td>\n",
       "      <td>0.593007</td>\n",
       "      <td>0.369635</td>\n",
       "      <td>0.325158</td>\n",
       "      <td>0.248026</td>\n",
       "      <td>0.389893</td>\n",
       "      <td>0.435986</td>\n",
       "      <td>0.282314</td>\n",
       "      <td>0.369656</td>\n",
       "      <td>...</td>\n",
       "      <td>0.613537</td>\n",
       "      <td>0.420563</td>\n",
       "      <td>0.809778</td>\n",
       "      <td>0.461679</td>\n",
       "      <td>0.292680</td>\n",
       "      <td>0.310591</td>\n",
       "      <td>0.319453</td>\n",
       "      <td>0.490960</td>\n",
       "      <td>0.468997</td>\n",
       "      <td>0.708624</td>\n",
       "    </tr>\n",
       "    <tr>\n",
       "      <th>Neighborhood</th>\n",
       "      <td>0.532233</td>\n",
       "      <td>1.000000</td>\n",
       "      <td>0.667647</td>\n",
       "      <td>0.683095</td>\n",
       "      <td>0.521638</td>\n",
       "      <td>0.400196</td>\n",
       "      <td>0.368029</td>\n",
       "      <td>0.631870</td>\n",
       "      <td>0.576118</td>\n",
       "      <td>0.629227</td>\n",
       "      <td>...</td>\n",
       "      <td>0.513701</td>\n",
       "      <td>0.566358</td>\n",
       "      <td>0.282979</td>\n",
       "      <td>0.315569</td>\n",
       "      <td>0.456575</td>\n",
       "      <td>0.579489</td>\n",
       "      <td>0.466576</td>\n",
       "      <td>0.585252</td>\n",
       "      <td>0.529629</td>\n",
       "      <td>0.696882</td>\n",
       "    </tr>\n",
       "    <tr>\n",
       "      <th>GarageCars</th>\n",
       "      <td>0.397369</td>\n",
       "      <td>0.585252</td>\n",
       "      <td>0.628715</td>\n",
       "      <td>0.570728</td>\n",
       "      <td>0.433995</td>\n",
       "      <td>0.429343</td>\n",
       "      <td>0.404375</td>\n",
       "      <td>0.557218</td>\n",
       "      <td>0.458128</td>\n",
       "      <td>0.545306</td>\n",
       "      <td>...</td>\n",
       "      <td>0.476583</td>\n",
       "      <td>0.535777</td>\n",
       "      <td>0.399737</td>\n",
       "      <td>0.300840</td>\n",
       "      <td>0.264771</td>\n",
       "      <td>0.485292</td>\n",
       "      <td>0.365879</td>\n",
       "      <td>1.000000</td>\n",
       "      <td>0.865866</td>\n",
       "      <td>0.692360</td>\n",
       "    </tr>\n",
       "  </tbody>\n",
       "</table>\n",
       "<p>5 rows × 24 columns</p>\n",
       "</div>"
      ],
      "text/plain": [
       "              MSSubClass  Neighborhood  OverallQual  YearBuilt  YearRemodAdd  \\\n",
       "SalePrice       0.476982      0.696882     0.790982   0.619545      0.535370   \n",
       "OverallQual     0.471136      0.667647     1.000000   0.665203      0.552825   \n",
       "GrLivArea       0.347673      0.411751     0.593007   0.369635      0.325158   \n",
       "Neighborhood    0.532233      1.000000     0.667647   0.683095      0.521638   \n",
       "GarageCars      0.397369      0.585252     0.628715   0.570728      0.433995   \n",
       "\n",
       "              MasVnrType  MasVnrArea  ExterQual  Foundation  BsmtQual  \\\n",
       "SalePrice       0.426997    0.475241   0.682639    0.505503  0.635361   \n",
       "OverallQual     0.449358    0.410238   0.726278    0.568969  0.644946   \n",
       "GrLivArea       0.248026    0.389893   0.435986    0.282314  0.369656   \n",
       "Neighborhood    0.400196    0.368029   0.631870    0.576118  0.629227   \n",
       "GarageCars      0.429343    0.404375   0.557218    0.458128  0.545306   \n",
       "\n",
       "                ...      FullBath  KitchenQual  TotRmsAbvGrd  Fireplaces  \\\n",
       "SalePrice       ...      0.553851     0.659600      0.537672    0.466929   \n",
       "OverallQual     ...      0.552153     0.673331      0.423438    0.396765   \n",
       "GrLivArea       ...      0.613537     0.420563      0.809778    0.461679   \n",
       "Neighborhood    ...      0.513701     0.566358      0.282979    0.315569   \n",
       "GarageCars      ...      0.476583     0.535777      0.399737    0.300840   \n",
       "\n",
       "              GarageType  GarageYrBlt  GarageFinish  GarageCars  GarageArea  \\\n",
       "SalePrice       0.430770     0.535419      0.496031    0.692360    0.623431   \n",
       "OverallQual     0.420713     0.574261      0.491404    0.628715    0.562022   \n",
       "GrLivArea       0.292680     0.310591      0.319453    0.490960    0.468997   \n",
       "Neighborhood    0.456575     0.579489      0.466576    0.585252    0.529629   \n",
       "GarageCars      0.264771     0.485292      0.365879    1.000000    0.865866   \n",
       "\n",
       "              SalePrice  \n",
       "SalePrice      1.000000  \n",
       "OverallQual    0.790982  \n",
       "GrLivArea      0.708624  \n",
       "Neighborhood   0.696882  \n",
       "GarageCars     0.692360  \n",
       "\n",
       "[5 rows x 24 columns]"
      ]
     },
     "execution_count": 29,
     "metadata": {},
     "output_type": "execute_result"
    }
   ],
   "source": [
    "a = df.corr()\n",
    "a.sort_values(by='SalePrice',ascending=False).head()"
   ]
  },
  {
   "cell_type": "code",
   "execution_count": 30,
   "metadata": {},
   "outputs": [
    {
     "data": {
      "image/png": "[encoded data removed]",
      "text/plain": [
       "<matplotlib.figure.Figure at 0x104aeb4a8>"
      ]
     },
     "metadata": {},
     "output_type": "display_data"
    }
   ],
   "source": [
    "#相関係数が一番高いOverallQualに着目、グラフにする。\n",
    "X = np.array(df.loc[:, ['OverallQual']])\n",
    "y1 = np.array(df.loc[:, ['SalePrice']])\n",
    "plt.scatter(X, y1)                  \n",
    "plt.show()                        "
   ]
  },
  {
   "cell_type": "code",
   "execution_count": 31,
   "metadata": {},
   "outputs": [
    {
     "data": {
      "image/png": "[encoded data removed]",
      "text/plain": [
       "<matplotlib.figure.Figure at 0x1a12abe860>"
      ]
     },
     "metadata": {},
     "output_type": "display_data"
    }
   ],
   "source": [
    "#二番目に高いGrLivAreaに着目、こちらもグラフにする。\n",
    "y2 = np.array(df.loc[:,[\"GrLivArea\"]])\n",
    "plt.scatter(X,y2)\n",
    "plt.show()"
   ]
  },
  {
   "cell_type": "code",
   "execution_count": 9,
   "metadata": {
    "collapsed": true
   },
   "outputs": [],
   "source": [
    "#OverallQualだけで線形回帰する。性能を見る。\n",
    "from sklearn.model_selection import train_test_split\n",
    "X_train, X_test, y1_train, y1_test = train_test_split(X, y1, test_size = 0.3, random_state = 0)\n",
    "from sklearn.linear_model import LinearRegression\n",
    "lr = LinearRegression()\n",
    "lr.fit(X_train, y1_train)"
   ]
  },
  {
   "cell_type": "code",
   "execution_count": 12,
   "metadata": {},
   "outputs": [
    {
     "name": "stdout",
     "output_type": "stream",
     "text": [
      "R^2\n",
      "train: 0.615\n",
      "test : 0.648\n"
     ]
    }
   ],
   "source": [
    "print('R^2')\n",
    "print('train: %.3f' % lr.score(X_train, y1_train))\n",
    "print('test : %.3f' % lr.score(X_test, y1_test))"
   ]
  },
  {
   "cell_type": "code",
   "execution_count": 33,
   "metadata": {},
   "outputs": [
    {
     "name": "stdout",
     "output_type": "stream",
     "text": [
      "adjusted R^2\n",
      "train: 0.723737\n",
      "test : 0.688849\n"
     ]
    }
   ],
   "source": [
    "def adjusted(score, n_sample, n_features):\n",
    "    adjusted_score = 1 - (1 - score) * ((n_sample - 1) / (n_sample - n_features - 1))\n",
    "    return adjusted_score\n",
    "print('adjusted R^2')\n",
    "print('train: %3f' % adjusted(lr.score(X_train, y1_train), len(y1_train), 2))\n",
    "print('test : %3f' % adjusted(lr.score(X_test, y1_test), len(y1_test), 2))"
   ]
  },
  {
   "cell_type": "code",
   "execution_count": 15,
   "metadata": {
    "collapsed": true
   },
   "outputs": [],
   "source": [
    "#GrLivAreaも使って重回帰分析する。\n",
    "X = df.loc[:, ['OverallQual', 'GrLivArea']].values\n",
    "y = df.loc[:, ['SalePrice']].values"
   ]
  },
  {
   "cell_type": "code",
   "execution_count": 17,
   "metadata": {
    "collapsed": true
   },
   "outputs": [],
   "source": [
    "from sklearn.model_selection import train_test_split\n",
    "X_train, X_test, y_train, y_test = train_test_split(X, y, test_size = 0.3, random_state = 0)\n",
    "lr = LinearRegression()"
   ]
  },
  {
   "cell_type": "code",
   "execution_count": 34,
   "metadata": {},
   "outputs": [
    {
     "data": {
      "text/plain": [
       "LinearRegression(copy_X=True, fit_intercept=True, n_jobs=1, normalize=False)"
      ]
     },
     "execution_count": 34,
     "metadata": {},
     "output_type": "execute_result"
    }
   ],
   "source": [
    "lr.fit(X_train, y_train)"
   ]
  },
  {
   "cell_type": "code",
   "execution_count": 35,
   "metadata": {},
   "outputs": [
    {
     "name": "stdout",
     "output_type": "stream",
     "text": [
      "R^2\n",
      "train: 0.724\n",
      "test : 0.690\n"
     ]
    }
   ],
   "source": [
    "print('R^2')\n",
    "print('train: %.3f' % lr.score(X_train, y_train))\n",
    "print('test : %.3f' % lr.score(X_test, y_test))"
   ]
  },
  {
   "cell_type": "code",
   "execution_count": 22,
   "metadata": {
    "collapsed": true
   },
   "outputs": [],
   "source": [
    "#重回帰分析した結果をcsvファイルで出力\n",
    "dftest = pd.read_csv('test.csv')\n",
    "Xnew = dftest.loc[:, ['OverallQual', 'GrLivArea']].values\n",
    "y_pred = lr.predict(Xnew)\n",
    "y_pred = y_pred.reshape(-1)\n",
    "a =[i for i in range(1461,2920)]\n",
    "df1 = pd.DataFrame({'SalePrice':y_pred,'Id': a})\n",
    "df1.to_csv(\"pred.csv\")"
   ]
  }
 ],
 "metadata": {
  "kernelspec": {
   "display_name": "Python 3",
   "language": "python",
   "name": "python3"
  },
  "language_info": {
   "codemirror_mode": {
    "name": "ipython",
    "version": 3
   },
   "file_extension": ".py",
   "mimetype": "text/x-python",
   "name": "python",
   "nbconvert_exporter": "python",
   "pygments_lexer": "ipython3",
   "version": "3.6.2"
  }
 },
 "nbformat": 4,
 "nbformat_minor": 2
}
